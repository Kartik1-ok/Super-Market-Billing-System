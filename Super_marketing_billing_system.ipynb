{
  "nbformat": 4,
  "nbformat_minor": 0,
  "metadata": {
    "colab": {
      "provenance": [],
      "authorship_tag": "ABX9TyNrKEFGFe+u/9c++ZOzkQUS",
      "include_colab_link": true
    },
    "kernelspec": {
      "name": "python3",
      "display_name": "Python 3"
    },
    "language_info": {
      "name": "python"
    }
  },
  "cells": [
    {
      "cell_type": "markdown",
      "metadata": {
        "id": "view-in-github",
        "colab_type": "text"
      },
      "source": [
        "<a href=\"https://colab.research.google.com/github/Kartik1-ok/Super-Market-Billing-System/blob/main/Super_marketing_billing_system.ipynb\" target=\"_parent\"><img src=\"https://colab.research.google.com/assets/colab-badge.svg\" alt=\"Open In Colab\"/></a>"
      ]
    },
    {
      "cell_type": "code",
      "source": [
        "inventory = {\n",
        "    'apple': (30, 50),\n",
        "    'banana': (5, 100),\n",
        "    'milk': (55, 60),\n",
        "    'bread': (35, 60),\n",
        "    'eggs': (5, 200)\n",
        "}\n",
        "\n",
        "cart = {}\n",
        "\n",
        "print(\"-\" * 50)\n",
        "print(\"           **** Welcome to the Mart ****          \")\n",
        "print(\"-\" * 50)\n",
        "print(\"       **** Laxmi Nagar Sector 02, New Delhi **** \")\n",
        "print(\"-\" * 50)\n",
        "name = input(\"Customer Name: \")\n",
        "phone = input(\"Customer Phone No.: \")\n",
        "address = input(\"Customer Address: \")\n",
        "print(\"-\" * 50)\n",
        "\n",
        "while True:\n",
        "    item = input(\"Enter the item to buy (or 'no' to finish): \").lower()\n",
        "    if item == 'no':\n",
        "        break\n",
        "    if item in inventory:\n",
        "        quantity = int(input(\"Enter quantity: \"))\n",
        "        price, stock = inventory[item]\n",
        "        if quantity > stock:\n",
        "            print(\"Sorry, not enough stock. Try a lower quantity.\")\n",
        "            continue\n",
        "        cart[item] = cart.get(item, 0) + quantity\n",
        "        inventory[item] = (price, stock - quantity)\n",
        "        print(f\"Added {quantity} of {item} to cart.\")\n",
        "    else:\n",
        "        print(\"Item not available.\")\n",
        "\n",
        "print(\"-\" * 50)\n",
        "print(\"                 ****RECEIPT****                   \")\n",
        "print(\"-\" * 50)\n",
        "print(f\"Customer name: {name}\")\n",
        "print(f\"Customer phone number: {phone}\")\n",
        "print(f\"Customer address: {address}\")\n",
        "print(\"-\" * 50)\n",
        "\n",
        "total = 0\n",
        "if len(cart) == 0:\n",
        "    print(\"You did not buy anything.\")\n",
        "else:\n",
        "    print(\"Items Purchased:\")\n",
        "    for item, quantity in cart.items():\n",
        "        price = inventory[item][0]\n",
        "        item_total = price * quantity\n",
        "        print(f\"{item.title()}: {quantity} x ₹{price} = ₹{item_total}\")\n",
        "        total += item_total\n",
        "    print(\"-\" * 50)\n",
        "    print(f\"Total Amount: ₹{total}\")\n",
        "    print(\"             ****Thank you****                 \")\n"
      ],
      "metadata": {
        "colab": {
          "base_uri": "https://localhost:8080/"
        },
        "id": "vsitnfHLLges",
        "outputId": "f3e6f84c-f80d-427c-af31-0cf7235175e4"
      },
      "execution_count": null,
      "outputs": [
        {
          "output_type": "stream",
          "name": "stdout",
          "text": [
            "--------------------------------------------------\n",
            "           **** Welcome to the Mart ****          \n",
            "--------------------------------------------------\n",
            "       **** Laxmi Nagar Sector 02, New Delhi **** \n",
            "--------------------------------------------------\n"
          ]
        }
      ]
    }
  ]
}